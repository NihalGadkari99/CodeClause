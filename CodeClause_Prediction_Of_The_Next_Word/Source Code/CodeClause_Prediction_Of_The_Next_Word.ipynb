{
  "nbformat": 4,
  "nbformat_minor": 0,
  "metadata": {
    "colab": {
      "provenance": [],
      "gpuType": "T4"
    },
    "kernelspec": {
      "name": "python3",
      "display_name": "Python 3"
    },
    "language_info": {
      "name": "python"
    },
    "accelerator": "GPU"
  },
  "cells": [
    {
      "cell_type": "code",
      "source": [
        "import tensorflow as tf\n",
        "from tensorflow.keras.preprocessing.text import Tokenizer\n",
        "from tensorflow.keras.layers import Embedding, LSTM, Dense\n",
        "from tensorflow.keras.models import Sequential\n",
        "from tensorflow.keras.utils import to_categorical\n",
        "from tensorflow.keras.optimizers import Adam\n",
        "import pickle\n",
        "import numpy as np\n",
        "import os"
      ],
      "metadata": {
        "id": "VCeNmI_qtpqZ"
      },
      "execution_count": 1,
      "outputs": []
    },
    {
      "cell_type": "code",
      "source": [
        "from google. colab import files\n",
        "uploaded = files.upload()"
      ],
      "metadata": {
        "colab": {
          "base_uri": "https://localhost:8080/",
          "height": 73
        },
        "id": "Vsu2i0kkiBUv",
        "outputId": "2291c37d-7124-4f89-a3c1-01f493530b33"
      },
      "execution_count": 2,
      "outputs": [
        {
          "output_type": "display_data",
          "data": {
            "text/plain": [
              "<IPython.core.display.HTML object>"
            ],
            "text/html": [
              "\n",
              "     <input type=\"file\" id=\"files-e84142c8-1b8d-4588-b37c-814972cafee1\" name=\"files[]\" multiple disabled\n",
              "        style=\"border:none\" />\n",
              "     <output id=\"result-e84142c8-1b8d-4588-b37c-814972cafee1\">\n",
              "      Upload widget is only available when the cell has been executed in the\n",
              "      current browser session. Please rerun this cell to enable.\n",
              "      </output>\n",
              "      <script>// Copyright 2017 Google LLC\n",
              "//\n",
              "// Licensed under the Apache License, Version 2.0 (the \"License\");\n",
              "// you may not use this file except in compliance with the License.\n",
              "// You may obtain a copy of the License at\n",
              "//\n",
              "//      http://www.apache.org/licenses/LICENSE-2.0\n",
              "//\n",
              "// Unless required by applicable law or agreed to in writing, software\n",
              "// distributed under the License is distributed on an \"AS IS\" BASIS,\n",
              "// WITHOUT WARRANTIES OR CONDITIONS OF ANY KIND, either express or implied.\n",
              "// See the License for the specific language governing permissions and\n",
              "// limitations under the License.\n",
              "\n",
              "/**\n",
              " * @fileoverview Helpers for google.colab Python module.\n",
              " */\n",
              "(function(scope) {\n",
              "function span(text, styleAttributes = {}) {\n",
              "  const element = document.createElement('span');\n",
              "  element.textContent = text;\n",
              "  for (const key of Object.keys(styleAttributes)) {\n",
              "    element.style[key] = styleAttributes[key];\n",
              "  }\n",
              "  return element;\n",
              "}\n",
              "\n",
              "// Max number of bytes which will be uploaded at a time.\n",
              "const MAX_PAYLOAD_SIZE = 100 * 1024;\n",
              "\n",
              "function _uploadFiles(inputId, outputId) {\n",
              "  const steps = uploadFilesStep(inputId, outputId);\n",
              "  const outputElement = document.getElementById(outputId);\n",
              "  // Cache steps on the outputElement to make it available for the next call\n",
              "  // to uploadFilesContinue from Python.\n",
              "  outputElement.steps = steps;\n",
              "\n",
              "  return _uploadFilesContinue(outputId);\n",
              "}\n",
              "\n",
              "// This is roughly an async generator (not supported in the browser yet),\n",
              "// where there are multiple asynchronous steps and the Python side is going\n",
              "// to poll for completion of each step.\n",
              "// This uses a Promise to block the python side on completion of each step,\n",
              "// then passes the result of the previous step as the input to the next step.\n",
              "function _uploadFilesContinue(outputId) {\n",
              "  const outputElement = document.getElementById(outputId);\n",
              "  const steps = outputElement.steps;\n",
              "\n",
              "  const next = steps.next(outputElement.lastPromiseValue);\n",
              "  return Promise.resolve(next.value.promise).then((value) => {\n",
              "    // Cache the last promise value to make it available to the next\n",
              "    // step of the generator.\n",
              "    outputElement.lastPromiseValue = value;\n",
              "    return next.value.response;\n",
              "  });\n",
              "}\n",
              "\n",
              "/**\n",
              " * Generator function which is called between each async step of the upload\n",
              " * process.\n",
              " * @param {string} inputId Element ID of the input file picker element.\n",
              " * @param {string} outputId Element ID of the output display.\n",
              " * @return {!Iterable<!Object>} Iterable of next steps.\n",
              " */\n",
              "function* uploadFilesStep(inputId, outputId) {\n",
              "  const inputElement = document.getElementById(inputId);\n",
              "  inputElement.disabled = false;\n",
              "\n",
              "  const outputElement = document.getElementById(outputId);\n",
              "  outputElement.innerHTML = '';\n",
              "\n",
              "  const pickedPromise = new Promise((resolve) => {\n",
              "    inputElement.addEventListener('change', (e) => {\n",
              "      resolve(e.target.files);\n",
              "    });\n",
              "  });\n",
              "\n",
              "  const cancel = document.createElement('button');\n",
              "  inputElement.parentElement.appendChild(cancel);\n",
              "  cancel.textContent = 'Cancel upload';\n",
              "  const cancelPromise = new Promise((resolve) => {\n",
              "    cancel.onclick = () => {\n",
              "      resolve(null);\n",
              "    };\n",
              "  });\n",
              "\n",
              "  // Wait for the user to pick the files.\n",
              "  const files = yield {\n",
              "    promise: Promise.race([pickedPromise, cancelPromise]),\n",
              "    response: {\n",
              "      action: 'starting',\n",
              "    }\n",
              "  };\n",
              "\n",
              "  cancel.remove();\n",
              "\n",
              "  // Disable the input element since further picks are not allowed.\n",
              "  inputElement.disabled = true;\n",
              "\n",
              "  if (!files) {\n",
              "    return {\n",
              "      response: {\n",
              "        action: 'complete',\n",
              "      }\n",
              "    };\n",
              "  }\n",
              "\n",
              "  for (const file of files) {\n",
              "    const li = document.createElement('li');\n",
              "    li.append(span(file.name, {fontWeight: 'bold'}));\n",
              "    li.append(span(\n",
              "        `(${file.type || 'n/a'}) - ${file.size} bytes, ` +\n",
              "        `last modified: ${\n",
              "            file.lastModifiedDate ? file.lastModifiedDate.toLocaleDateString() :\n",
              "                                    'n/a'} - `));\n",
              "    const percent = span('0% done');\n",
              "    li.appendChild(percent);\n",
              "\n",
              "    outputElement.appendChild(li);\n",
              "\n",
              "    const fileDataPromise = new Promise((resolve) => {\n",
              "      const reader = new FileReader();\n",
              "      reader.onload = (e) => {\n",
              "        resolve(e.target.result);\n",
              "      };\n",
              "      reader.readAsArrayBuffer(file);\n",
              "    });\n",
              "    // Wait for the data to be ready.\n",
              "    let fileData = yield {\n",
              "      promise: fileDataPromise,\n",
              "      response: {\n",
              "        action: 'continue',\n",
              "      }\n",
              "    };\n",
              "\n",
              "    // Use a chunked sending to avoid message size limits. See b/62115660.\n",
              "    let position = 0;\n",
              "    do {\n",
              "      const length = Math.min(fileData.byteLength - position, MAX_PAYLOAD_SIZE);\n",
              "      const chunk = new Uint8Array(fileData, position, length);\n",
              "      position += length;\n",
              "\n",
              "      const base64 = btoa(String.fromCharCode.apply(null, chunk));\n",
              "      yield {\n",
              "        response: {\n",
              "          action: 'append',\n",
              "          file: file.name,\n",
              "          data: base64,\n",
              "        },\n",
              "      };\n",
              "\n",
              "      let percentDone = fileData.byteLength === 0 ?\n",
              "          100 :\n",
              "          Math.round((position / fileData.byteLength) * 100);\n",
              "      percent.textContent = `${percentDone}% done`;\n",
              "\n",
              "    } while (position < fileData.byteLength);\n",
              "  }\n",
              "\n",
              "  // All done.\n",
              "  yield {\n",
              "    response: {\n",
              "      action: 'complete',\n",
              "    }\n",
              "  };\n",
              "}\n",
              "\n",
              "scope.google = scope.google || {};\n",
              "scope.google.colab = scope.google.colab || {};\n",
              "scope.google.colab._files = {\n",
              "  _uploadFiles,\n",
              "  _uploadFilesContinue,\n",
              "};\n",
              "})(self);\n",
              "</script> "
            ]
          },
          "metadata": {}
        },
        {
          "output_type": "stream",
          "name": "stdout",
          "text": [
            "Saving Pride.txt to Pride (1).txt\n"
          ]
        }
      ]
    },
    {
      "cell_type": "code",
      "source": [
        "file = open(\"Pride.txt\", \"r\", encoding = \"utf8\")\n",
        "\n",
        "lines = []\n",
        "for i in file:\n",
        "    lines.append(i)\n",
        "\n",
        "data = \"\"\n",
        "for i in lines:\n",
        "  data = ' '. join(lines)\n",
        "\n",
        "data = data.replace('\\n', '').replace('\\r', '').replace('\\ufeff', '').replace('“','').replace('”','')\n",
        "\n",
        "data = data.split()\n",
        "data = ' '.join(data)\n",
        "data[:500]"
      ],
      "metadata": {
        "colab": {
          "base_uri": "https://localhost:8080/",
          "height": 88
        },
        "id": "0HsoRx7_ipYV",
        "outputId": "63dc500a-32e0-4b3e-c789-d4e1f5ae8b2b"
      },
      "execution_count": null,
      "outputs": [
        {
          "output_type": "execute_result",
          "data": {
            "text/plain": [
              "'The Project Gutenberg eBook of Pride and prejudice, by Jane Austen This eBook is for the use of anyone anywhere in the United States and most other parts of the world at no cost and with almost no restrictions whatsoever. You may copy it, give it away or re-use it under the terms of the Project Gutenberg License included with this eBook or online at www.gutenberg.org. If you are not located in the United States, you will have to check the laws of the country where you are located before using th'"
            ],
            "application/vnd.google.colaboratory.intrinsic+json": {
              "type": "string"
            }
          },
          "metadata": {},
          "execution_count": 4
        }
      ]
    },
    {
      "cell_type": "code",
      "source": [
        "len(data)"
      ],
      "metadata": {
        "colab": {
          "base_uri": "https://localhost:8080/"
        },
        "id": "EuDsYveUjXHO",
        "outputId": "bb3c23e6-1377-442c-d25d-613babf5956b"
      },
      "execution_count": null,
      "outputs": [
        {
          "output_type": "execute_result",
          "data": {
            "text/plain": [
              "733851"
            ]
          },
          "metadata": {},
          "execution_count": 5
        }
      ]
    },
    {
      "cell_type": "code",
      "source": [
        "tokenizer = Tokenizer()\n",
        "tokenizer.fit_on_texts([data])\n",
        "\n",
        "pickle.dump(tokenizer, open('token.pkl', 'wb'))\n",
        "\n",
        "sequence_data = tokenizer.texts_to_sequences([data])[0]\n",
        "sequence_data[:15]"
      ],
      "metadata": {
        "colab": {
          "base_uri": "https://localhost:8080/"
        },
        "id": "kJUviDq-jYlS",
        "outputId": "1c37d239-01ef-4225-9259-6d27e681fa79"
      },
      "execution_count": null,
      "outputs": [
        {
          "output_type": "execute_result",
          "data": {
            "text/plain": [
              "[1, 182, 164, 1001, 3, 299, 4, 946, 30, 72, 710, 41, 1001, 23, 21]"
            ]
          },
          "metadata": {},
          "execution_count": 6
        }
      ]
    },
    {
      "cell_type": "code",
      "source": [
        "len(sequence_data)"
      ],
      "metadata": {
        "colab": {
          "base_uri": "https://localhost:8080/"
        },
        "id": "uPkMB1yfkSuy",
        "outputId": "9e56f0ee-21d4-4211-d2c2-3ed71d43f54e"
      },
      "execution_count": null,
      "outputs": [
        {
          "output_type": "execute_result",
          "data": {
            "text/plain": [
              "131237"
            ]
          },
          "metadata": {},
          "execution_count": 7
        }
      ]
    },
    {
      "cell_type": "code",
      "source": [
        "vocab_size = len(tokenizer.word_index) + 1\n",
        "print(vocab_size)"
      ],
      "metadata": {
        "colab": {
          "base_uri": "https://localhost:8080/"
        },
        "id": "sDti1LjSkXE2",
        "outputId": "9b259b2f-7751-4d1a-c09a-5b337cd5b00f"
      },
      "execution_count": null,
      "outputs": [
        {
          "output_type": "stream",
          "name": "stdout",
          "text": [
            "7250\n"
          ]
        }
      ]
    },
    {
      "cell_type": "code",
      "source": [
        "sequences = []\n",
        "\n",
        "for i in range(3, len(sequence_data)):\n",
        "    words = sequence_data[i-3:i+1]\n",
        "    sequences.append(words)\n",
        "\n",
        "print(\"The Length of sequences are: \", len(sequences))\n",
        "sequences = np.array(sequences)\n",
        "sequences[:10]"
      ],
      "metadata": {
        "colab": {
          "base_uri": "https://localhost:8080/"
        },
        "id": "Q5brVzTtkak9",
        "outputId": "19675994-167f-4a6d-daba-097779244e79"
      },
      "execution_count": null,
      "outputs": [
        {
          "output_type": "stream",
          "name": "stdout",
          "text": [
            "The Length of sequences are:  131234\n"
          ]
        },
        {
          "output_type": "execute_result",
          "data": {
            "text/plain": [
              "array([[   1,  182,  164, 1001],\n",
              "       [ 182,  164, 1001,    3],\n",
              "       [ 164, 1001,    3,  299],\n",
              "       [1001,    3,  299,    4],\n",
              "       [   3,  299,    4,  946],\n",
              "       [ 299,    4,  946,   30],\n",
              "       [   4,  946,   30,   72],\n",
              "       [ 946,   30,   72,  710],\n",
              "       [  30,   72,  710,   41],\n",
              "       [  72,  710,   41, 1001]])"
            ]
          },
          "metadata": {},
          "execution_count": 9
        }
      ]
    },
    {
      "cell_type": "code",
      "source": [
        "X = []\n",
        "y = []\n",
        "\n",
        "for i in sequences:\n",
        "    X.append(i[0:3])\n",
        "    y.append(i[3])\n",
        "\n",
        "X = np.array(X)\n",
        "y = np.array(y)"
      ],
      "metadata": {
        "id": "d6vXMyRnkiZ3"
      },
      "execution_count": null,
      "outputs": []
    },
    {
      "cell_type": "code",
      "source": [
        "print(\"Data: \", X[:10])\n",
        "print(\"Response: \", y[:10])"
      ],
      "metadata": {
        "colab": {
          "base_uri": "https://localhost:8080/"
        },
        "id": "Lj2wQurik1Uf",
        "outputId": "cb721bf4-67f1-4fa2-8db5-e5e72e0590b9"
      },
      "execution_count": null,
      "outputs": [
        {
          "output_type": "stream",
          "name": "stdout",
          "text": [
            "Data:  [[   1  182  164]\n",
            " [ 182  164 1001]\n",
            " [ 164 1001    3]\n",
            " [1001    3  299]\n",
            " [   3  299    4]\n",
            " [ 299    4  946]\n",
            " [   4  946   30]\n",
            " [ 946   30   72]\n",
            " [  30   72  710]\n",
            " [  72  710   41]]\n",
            "Response:  [1001    3  299    4  946   30   72  710   41 1001]\n"
          ]
        }
      ]
    },
    {
      "cell_type": "code",
      "source": [
        "y = to_categorical(y, num_classes=vocab_size)\n",
        "y[:5]"
      ],
      "metadata": {
        "colab": {
          "base_uri": "https://localhost:8080/"
        },
        "id": "zFzRm_lHk7N5",
        "outputId": "51a95fe6-8dd4-401c-d660-45f7fdafd4d1"
      },
      "execution_count": null,
      "outputs": [
        {
          "output_type": "execute_result",
          "data": {
            "text/plain": [
              "array([[0., 0., 0., ..., 0., 0., 0.],\n",
              "       [0., 0., 0., ..., 0., 0., 0.],\n",
              "       [0., 0., 0., ..., 0., 0., 0.],\n",
              "       [0., 0., 0., ..., 0., 0., 0.],\n",
              "       [0., 0., 0., ..., 0., 0., 0.]], dtype=float32)"
            ]
          },
          "metadata": {},
          "execution_count": 12
        }
      ]
    },
    {
      "cell_type": "code",
      "source": [
        "model = Sequential()\n",
        "model.add(Embedding(vocab_size, 10, input_length=3))\n",
        "model.add(LSTM(1000, return_sequences=True))\n",
        "model.add(LSTM(1000))\n",
        "model.add(Dense(1000, activation=\"relu\"))\n",
        "model.add(Dense(vocab_size, activation=\"softmax\"))"
      ],
      "metadata": {
        "id": "qyaK13Xek_rv"
      },
      "execution_count": null,
      "outputs": []
    },
    {
      "cell_type": "code",
      "source": [
        "model.summary()"
      ],
      "metadata": {
        "colab": {
          "base_uri": "https://localhost:8080/"
        },
        "id": "SDv5YzkglKu7",
        "outputId": "21defaf8-8cee-419d-f801-438152501a27"
      },
      "execution_count": null,
      "outputs": [
        {
          "output_type": "stream",
          "name": "stdout",
          "text": [
            "Model: \"sequential\"\n",
            "_________________________________________________________________\n",
            " Layer (type)                Output Shape              Param #   \n",
            "=================================================================\n",
            " embedding (Embedding)       (None, 3, 10)             72500     \n",
            "                                                                 \n",
            " lstm (LSTM)                 (None, 3, 1000)           4044000   \n",
            "                                                                 \n",
            " lstm_1 (LSTM)               (None, 1000)              8004000   \n",
            "                                                                 \n",
            " dense (Dense)               (None, 1000)              1001000   \n",
            "                                                                 \n",
            " dense_1 (Dense)             (None, 7250)              7257250   \n",
            "                                                                 \n",
            "=================================================================\n",
            "Total params: 20,378,750\n",
            "Trainable params: 20,378,750\n",
            "Non-trainable params: 0\n",
            "_________________________________________________________________\n"
          ]
        }
      ]
    },
    {
      "cell_type": "code",
      "source": [
        "from tensorflow import keras\n",
        "from keras.utils.vis_utils import plot_model\n",
        "\n",
        "keras.utils.plot_model(model, to_file='plot.png', show_layer_names=True)"
      ],
      "metadata": {
        "colab": {
          "base_uri": "https://localhost:8080/",
          "height": 564
        },
        "id": "GpVW-s0flMyr",
        "outputId": "33485377-fb93-48ed-c496-e16885bcedc1"
      },
      "execution_count": null,
      "outputs": [
        {
          "output_type": "execute_result",
          "data": {
            "image/png": "[encoded data removed]",
            "text/plain": [
              "<IPython.core.display.Image object>"
            ]
          },
          "metadata": {},
          "execution_count": 15
        }
      ]
    },
    {
      "cell_type": "code",
      "source": [
        "from tensorflow.keras.callbacks import ModelCheckpoint\n",
        "\n",
        "checkpoint = ModelCheckpoint(\"next_words.h5\", monitor='loss', verbose=1, save_best_only=True)\n",
        "model.compile(loss=\"categorical_crossentropy\", optimizer=Adam(learning_rate=0.001))\n",
        "model.fit(X, y, epochs=70, batch_size=64, callbacks=[checkpoint])"
      ],
      "metadata": {
        "colab": {
          "base_uri": "https://localhost:8080/"
        },
        "id": "cQaMhZm5lWL0",
        "outputId": "6f9e5fe5-3a3a-41eb-d98e-60d6f73d000a"
      },
      "execution_count": null,
      "outputs": [
        {
          "output_type": "stream",
          "name": "stdout",
          "text": [
            "Epoch 1/70\n",
            "2051/2051 [==============================] - ETA: 0s - loss: 6.2513\n",
            "Epoch 1: loss improved from inf to 6.25131, saving model to next_words.h5\n",
            "2051/2051 [==============================] - 51s 21ms/step - loss: 6.2513\n",
            "Epoch 2/70\n",
            "2051/2051 [==============================] - ETA: 0s - loss: 5.6097\n",
            "Epoch 2: loss improved from 6.25131 to 5.60966, saving model to next_words.h5\n",
            "2051/2051 [==============================] - 31s 15ms/step - loss: 5.6097\n",
            "Epoch 3/70\n",
            "2051/2051 [==============================] - ETA: 0s - loss: 5.2788\n",
            "Epoch 3: loss improved from 5.60966 to 5.27881, saving model to next_words.h5\n",
            "2051/2051 [==============================] - 36s 18ms/step - loss: 5.2788\n",
            "Epoch 4/70\n",
            "2051/2051 [==============================] - ETA: 0s - loss: 5.0466\n",
            "Epoch 4: loss improved from 5.27881 to 5.04661, saving model to next_words.h5\n",
            "2051/2051 [==============================] - 31s 15ms/step - loss: 5.0466\n",
            "Epoch 5/70\n",
            "2051/2051 [==============================] - ETA: 0s - loss: 4.8414\n",
            "Epoch 5: loss improved from 5.04661 to 4.84136, saving model to next_words.h5\n",
            "2051/2051 [==============================] - 32s 16ms/step - loss: 4.8414\n",
            "Epoch 6/70\n",
            "2049/2051 [============================>.] - ETA: 0s - loss: 4.6422\n",
            "Epoch 6: loss improved from 4.84136 to 4.64248, saving model to next_words.h5\n",
            "2051/2051 [==============================] - 33s 16ms/step - loss: 4.6425\n",
            "Epoch 7/70\n",
            "2048/2051 [============================>.] - ETA: 0s - loss: 4.4457\n",
            "Epoch 7: loss improved from 4.64248 to 4.44528, saving model to next_words.h5\n",
            "2051/2051 [==============================] - 31s 15ms/step - loss: 4.4453\n",
            "Epoch 8/70\n",
            "2051/2051 [==============================] - ETA: 0s - loss: 4.2455\n",
            "Epoch 8: loss improved from 4.44528 to 4.24551, saving model to next_words.h5\n",
            "2051/2051 [==============================] - 31s 15ms/step - loss: 4.2455\n",
            "Epoch 9/70\n",
            "2051/2051 [==============================] - ETA: 0s - loss: 4.0394\n",
            "Epoch 9: loss improved from 4.24551 to 4.03936, saving model to next_words.h5\n",
            "2051/2051 [==============================] - 31s 15ms/step - loss: 4.0394\n",
            "Epoch 10/70\n",
            "2050/2051 [============================>.] - ETA: 0s - loss: 3.8229\n",
            "Epoch 10: loss improved from 4.03936 to 3.82309, saving model to next_words.h5\n",
            "2051/2051 [==============================] - 32s 15ms/step - loss: 3.8231\n",
            "Epoch 11/70\n",
            "2051/2051 [==============================] - ETA: 0s - loss: 3.6020\n",
            "Epoch 11: loss improved from 3.82309 to 3.60197, saving model to next_words.h5\n",
            "2051/2051 [==============================] - 31s 15ms/step - loss: 3.6020\n",
            "Epoch 12/70\n",
            "2051/2051 [==============================] - ETA: 0s - loss: 3.3807\n",
            "Epoch 12: loss improved from 3.60197 to 3.38066, saving model to next_words.h5\n",
            "2051/2051 [==============================] - 32s 16ms/step - loss: 3.3807\n",
            "Epoch 13/70\n",
            "2048/2051 [============================>.] - ETA: 0s - loss: 3.1520\n",
            "Epoch 13: loss improved from 3.38066 to 3.15245, saving model to next_words.h5\n",
            "2051/2051 [==============================] - 31s 15ms/step - loss: 3.1524\n",
            "Epoch 14/70\n",
            "2051/2051 [==============================] - ETA: 0s - loss: 2.9176\n",
            "Epoch 14: loss improved from 3.15245 to 2.91763, saving model to next_words.h5\n",
            "2051/2051 [==============================] - 32s 15ms/step - loss: 2.9176\n",
            "Epoch 15/70\n",
            "2051/2051 [==============================] - ETA: 0s - loss: 2.6745\n",
            "Epoch 15: loss improved from 2.91763 to 2.67446, saving model to next_words.h5\n",
            "2051/2051 [==============================] - 31s 15ms/step - loss: 2.6745\n",
            "Epoch 16/70\n",
            "2051/2051 [==============================] - ETA: 0s - loss: 2.4364\n",
            "Epoch 16: loss improved from 2.67446 to 2.43644, saving model to next_words.h5\n",
            "2051/2051 [==============================] - 31s 15ms/step - loss: 2.4364\n",
            "Epoch 17/70\n",
            "2051/2051 [==============================] - ETA: 0s - loss: 2.1984\n",
            "Epoch 17: loss improved from 2.43644 to 2.19841, saving model to next_words.h5\n",
            "2051/2051 [==============================] - 31s 15ms/step - loss: 2.1984\n",
            "Epoch 18/70\n",
            "2051/2051 [==============================] - ETA: 0s - loss: 1.9716\n",
            "Epoch 18: loss improved from 2.19841 to 1.97162, saving model to next_words.h5\n",
            "2051/2051 [==============================] - 31s 15ms/step - loss: 1.9716\n",
            "Epoch 19/70\n",
            "2051/2051 [==============================] - ETA: 0s - loss: 1.7602\n",
            "Epoch 19: loss improved from 1.97162 to 1.76024, saving model to next_words.h5\n",
            "2051/2051 [==============================] - 31s 15ms/step - loss: 1.7602\n",
            "Epoch 20/70\n",
            "2050/2051 [============================>.] - ETA: 0s - loss: 1.5746\n",
            "Epoch 20: loss improved from 1.76024 to 1.57443, saving model to next_words.h5\n",
            "2051/2051 [==============================] - 31s 15ms/step - loss: 1.5744\n",
            "Epoch 21/70\n",
            "2048/2051 [============================>.] - ETA: 0s - loss: 1.4138\n",
            "Epoch 21: loss improved from 1.57443 to 1.41378, saving model to next_words.h5\n",
            "2051/2051 [==============================] - 31s 15ms/step - loss: 1.4138\n",
            "Epoch 22/70\n",
            "2048/2051 [============================>.] - ETA: 0s - loss: 1.2728\n",
            "Epoch 22: loss improved from 1.41378 to 1.27298, saving model to next_words.h5\n",
            "2051/2051 [==============================] - 31s 15ms/step - loss: 1.2730\n",
            "Epoch 23/70\n",
            "2049/2051 [============================>.] - ETA: 0s - loss: 1.1478\n",
            "Epoch 23: loss improved from 1.27298 to 1.14817, saving model to next_words.h5\n",
            "2051/2051 [==============================] - 31s 15ms/step - loss: 1.1482\n",
            "Epoch 24/70\n",
            "2051/2051 [==============================] - ETA: 0s - loss: 1.0580\n",
            "Epoch 24: loss improved from 1.14817 to 1.05799, saving model to next_words.h5\n",
            "2051/2051 [==============================] - 36s 18ms/step - loss: 1.0580\n",
            "Epoch 25/70\n",
            "2048/2051 [============================>.] - ETA: 0s - loss: 0.9835\n",
            "Epoch 25: loss improved from 1.05799 to 0.98375, saving model to next_words.h5\n",
            "2051/2051 [==============================] - 31s 15ms/step - loss: 0.9838\n",
            "Epoch 26/70\n",
            "2048/2051 [============================>.] - ETA: 0s - loss: 0.9176\n",
            "Epoch 26: loss improved from 0.98375 to 0.91773, saving model to next_words.h5\n",
            "2051/2051 [==============================] - 31s 15ms/step - loss: 0.9177\n",
            "Epoch 27/70\n",
            "2051/2051 [==============================] - ETA: 0s - loss: 0.8678\n",
            "Epoch 27: loss improved from 0.91773 to 0.86783, saving model to next_words.h5\n",
            "2051/2051 [==============================] - 32s 16ms/step - loss: 0.8678\n",
            "Epoch 28/70\n",
            "2050/2051 [============================>.] - ETA: 0s - loss: 0.8194\n",
            "Epoch 28: loss improved from 0.86783 to 0.81931, saving model to next_words.h5\n",
            "2051/2051 [==============================] - 31s 15ms/step - loss: 0.8193\n",
            "Epoch 29/70\n",
            "2049/2051 [============================>.] - ETA: 0s - loss: 0.7876\n",
            "Epoch 29: loss improved from 0.81931 to 0.78755, saving model to next_words.h5\n",
            "2051/2051 [==============================] - 31s 15ms/step - loss: 0.7875\n",
            "Epoch 30/70\n",
            "2050/2051 [============================>.] - ETA: 0s - loss: 0.7569\n",
            "Epoch 30: loss improved from 0.78755 to 0.75688, saving model to next_words.h5\n",
            "2051/2051 [==============================] - 31s 15ms/step - loss: 0.7569\n",
            "Epoch 31/70\n",
            "2051/2051 [==============================] - ETA: 0s - loss: 0.7324\n",
            "Epoch 31: loss improved from 0.75688 to 0.73242, saving model to next_words.h5\n",
            "2051/2051 [==============================] - 31s 15ms/step - loss: 0.7324\n",
            "Epoch 32/70\n",
            "2051/2051 [==============================] - ETA: 0s - loss: 0.7059\n",
            "Epoch 32: loss improved from 0.73242 to 0.70585, saving model to next_words.h5\n",
            "2051/2051 [==============================] - 31s 15ms/step - loss: 0.7059\n",
            "Epoch 33/70\n",
            "2051/2051 [==============================] - ETA: 0s - loss: 0.6859\n",
            "Epoch 33: loss improved from 0.70585 to 0.68590, saving model to next_words.h5\n",
            "2051/2051 [==============================] - 31s 15ms/step - loss: 0.6859\n",
            "Epoch 34/70\n",
            "2050/2051 [============================>.] - ETA: 0s - loss: 0.6689\n",
            "Epoch 34: loss improved from 0.68590 to 0.66899, saving model to next_words.h5\n",
            "2051/2051 [==============================] - 32s 15ms/step - loss: 0.6690\n",
            "Epoch 35/70\n",
            "2048/2051 [============================>.] - ETA: 0s - loss: 0.6524\n",
            "Epoch 35: loss improved from 0.66899 to 0.65227, saving model to next_words.h5\n",
            "2051/2051 [==============================] - 31s 15ms/step - loss: 0.6523\n",
            "Epoch 36/70\n",
            "2050/2051 [============================>.] - ETA: 0s - loss: 0.6392\n",
            "Epoch 36: loss improved from 0.65227 to 0.63933, saving model to next_words.h5\n",
            "2051/2051 [==============================] - 31s 15ms/step - loss: 0.6393\n",
            "Epoch 37/70\n",
            "2051/2051 [==============================] - ETA: 0s - loss: 0.6260\n",
            "Epoch 37: loss improved from 0.63933 to 0.62598, saving model to next_words.h5\n",
            "2051/2051 [==============================] - 31s 15ms/step - loss: 0.6260\n",
            "Epoch 38/70\n",
            "2051/2051 [==============================] - ETA: 0s - loss: 0.6127\n",
            "Epoch 38: loss improved from 0.62598 to 0.61270, saving model to next_words.h5\n",
            "2051/2051 [==============================] - 31s 15ms/step - loss: 0.6127\n",
            "Epoch 39/70\n",
            "2050/2051 [============================>.] - ETA: 0s - loss: 0.6061\n",
            "Epoch 39: loss improved from 0.61270 to 0.60614, saving model to next_words.h5\n",
            "2051/2051 [==============================] - 31s 15ms/step - loss: 0.6061\n",
            "Epoch 40/70\n",
            "2049/2051 [============================>.] - ETA: 0s - loss: 0.5922\n",
            "Epoch 40: loss improved from 0.60614 to 0.59221, saving model to next_words.h5\n",
            "2051/2051 [==============================] - 31s 15ms/step - loss: 0.5922\n",
            "Epoch 41/70\n",
            "2049/2051 [============================>.] - ETA: 0s - loss: 0.5807\n",
            "Epoch 41: loss improved from 0.59221 to 0.58088, saving model to next_words.h5\n",
            "2051/2051 [==============================] - 31s 15ms/step - loss: 0.5809\n",
            "Epoch 42/70\n",
            "2049/2051 [============================>.] - ETA: 0s - loss: 0.5752\n",
            "Epoch 42: loss improved from 0.58088 to 0.57521, saving model to next_words.h5\n",
            "2051/2051 [==============================] - 31s 15ms/step - loss: 0.5752\n",
            "Epoch 43/70\n",
            "2048/2051 [============================>.] - ETA: 0s - loss: 0.5670\n",
            "Epoch 43: loss improved from 0.57521 to 0.56723, saving model to next_words.h5\n",
            "2051/2051 [==============================] - 31s 15ms/step - loss: 0.5672\n",
            "Epoch 44/70\n",
            "2051/2051 [==============================] - ETA: 0s - loss: 0.5570\n",
            "Epoch 44: loss improved from 0.56723 to 0.55700, saving model to next_words.h5\n",
            "2051/2051 [==============================] - 31s 15ms/step - loss: 0.5570\n",
            "Epoch 45/70\n",
            "2051/2051 [==============================] - ETA: 0s - loss: 0.5508\n",
            "Epoch 45: loss improved from 0.55700 to 0.55078, saving model to next_words.h5\n",
            "2051/2051 [==============================] - 31s 15ms/step - loss: 0.5508\n",
            "Epoch 46/70\n",
            "2051/2051 [==============================] - ETA: 0s - loss: 0.5444\n",
            "Epoch 46: loss improved from 0.55078 to 0.54445, saving model to next_words.h5\n",
            "2051/2051 [==============================] - 31s 15ms/step - loss: 0.5444\n",
            "Epoch 47/70\n",
            "2051/2051 [==============================] - ETA: 0s - loss: 0.5371\n",
            "Epoch 47: loss improved from 0.54445 to 0.53711, saving model to next_words.h5\n",
            "2051/2051 [==============================] - 31s 15ms/step - loss: 0.5371\n",
            "Epoch 48/70\n",
            "2049/2051 [============================>.] - ETA: 0s - loss: 0.5311\n",
            "Epoch 48: loss improved from 0.53711 to 0.53113, saving model to next_words.h5\n",
            "2051/2051 [==============================] - 31s 15ms/step - loss: 0.5311\n",
            "Epoch 49/70\n",
            "2048/2051 [============================>.] - ETA: 0s - loss: 0.5242\n",
            "Epoch 49: loss improved from 0.53113 to 0.52429, saving model to next_words.h5\n",
            "2051/2051 [==============================] - 31s 15ms/step - loss: 0.5243\n",
            "Epoch 50/70\n",
            "2048/2051 [============================>.] - ETA: 0s - loss: 0.5169\n",
            "Epoch 50: loss improved from 0.52429 to 0.51717, saving model to next_words.h5\n",
            "2051/2051 [==============================] - 32s 15ms/step - loss: 0.5172\n",
            "Epoch 51/70\n",
            "2049/2051 [============================>.] - ETA: 0s - loss: 0.5141\n",
            "Epoch 51: loss improved from 0.51717 to 0.51416, saving model to next_words.h5\n",
            "2051/2051 [==============================] - 31s 15ms/step - loss: 0.5142\n",
            "Epoch 52/70\n",
            "2049/2051 [============================>.] - ETA: 0s - loss: 0.5073\n",
            "Epoch 52: loss improved from 0.51416 to 0.50743, saving model to next_words.h5\n",
            "2051/2051 [==============================] - 32s 16ms/step - loss: 0.5074\n",
            "Epoch 53/70\n",
            "2049/2051 [============================>.] - ETA: 0s - loss: 0.5052\n",
            "Epoch 53: loss improved from 0.50743 to 0.50531, saving model to next_words.h5\n",
            "2051/2051 [==============================] - 31s 15ms/step - loss: 0.5053\n",
            "Epoch 54/70\n",
            "2051/2051 [==============================] - ETA: 0s - loss: 0.5000\n",
            "Epoch 54: loss improved from 0.50531 to 0.50004, saving model to next_words.h5\n",
            "2051/2051 [==============================] - 31s 15ms/step - loss: 0.5000\n",
            "Epoch 55/70\n",
            "2050/2051 [============================>.] - ETA: 0s - loss: 0.4954\n",
            "Epoch 55: loss improved from 0.50004 to 0.49547, saving model to next_words.h5\n",
            "2051/2051 [==============================] - 36s 18ms/step - loss: 0.4955\n",
            "Epoch 56/70\n",
            "2048/2051 [============================>.] - ETA: 0s - loss: 0.4909\n",
            "Epoch 56: loss improved from 0.49547 to 0.49098, saving model to next_words.h5\n",
            "2051/2051 [==============================] - 32s 15ms/step - loss: 0.4910\n",
            "Epoch 57/70\n",
            "2049/2051 [============================>.] - ETA: 0s - loss: 0.4855\n",
            "Epoch 57: loss improved from 0.49098 to 0.48551, saving model to next_words.h5\n",
            "2051/2051 [==============================] - 32s 15ms/step - loss: 0.4855\n",
            "Epoch 58/70\n",
            "2051/2051 [==============================] - ETA: 0s - loss: 0.4831\n",
            "Epoch 58: loss improved from 0.48551 to 0.48308, saving model to next_words.h5\n",
            "2051/2051 [==============================] - 32s 16ms/step - loss: 0.4831\n",
            "Epoch 59/70\n",
            "2050/2051 [============================>.] - ETA: 0s - loss: 0.4763\n",
            "Epoch 59: loss improved from 0.48308 to 0.47637, saving model to next_words.h5\n",
            "2051/2051 [==============================] - 32s 15ms/step - loss: 0.4764\n",
            "Epoch 60/70\n",
            "2049/2051 [============================>.] - ETA: 0s - loss: 0.4781\n",
            "Epoch 60: loss did not improve from 0.47637\n",
            "2051/2051 [==============================] - 31s 15ms/step - loss: 0.4782\n",
            "Epoch 61/70\n",
            "2050/2051 [============================>.] - ETA: 0s - loss: 0.4760\n",
            "Epoch 61: loss improved from 0.47637 to 0.47594, saving model to next_words.h5\n",
            "2051/2051 [==============================] - 35s 17ms/step - loss: 0.4759\n",
            "Epoch 62/70\n",
            "2048/2051 [============================>.] - ETA: 0s - loss: 0.4697\n",
            "Epoch 62: loss improved from 0.47594 to 0.46966, saving model to next_words.h5\n",
            "2051/2051 [==============================] - 32s 16ms/step - loss: 0.4697\n",
            "Epoch 63/70\n",
            "2049/2051 [============================>.] - ETA: 0s - loss: 0.4645\n",
            "Epoch 63: loss improved from 0.46966 to 0.46468, saving model to next_words.h5\n",
            "2051/2051 [==============================] - 32s 15ms/step - loss: 0.4647\n",
            "Epoch 64/70\n",
            "2051/2051 [==============================] - ETA: 0s - loss: 0.4673\n",
            "Epoch 64: loss did not improve from 0.46468\n",
            "2051/2051 [==============================] - 31s 15ms/step - loss: 0.4673\n",
            "Epoch 65/70\n",
            "2049/2051 [============================>.] - ETA: 0s - loss: 0.4575\n",
            "Epoch 65: loss improved from 0.46468 to 0.45756, saving model to next_words.h5\n",
            "2051/2051 [==============================] - 38s 19ms/step - loss: 0.4576\n",
            "Epoch 66/70\n",
            "2048/2051 [============================>.] - ETA: 0s - loss: 0.4580\n",
            "Epoch 66: loss did not improve from 0.45756\n",
            "2051/2051 [==============================] - 31s 15ms/step - loss: 0.4581\n",
            "Epoch 67/70\n",
            "2049/2051 [============================>.] - ETA: 0s - loss: 0.4585\n",
            "Epoch 67: loss did not improve from 0.45756\n",
            "2051/2051 [==============================] - 31s 15ms/step - loss: 0.4585\n",
            "Epoch 68/70\n",
            "2051/2051 [==============================] - ETA: 0s - loss: 0.4526\n",
            "Epoch 68: loss improved from 0.45756 to 0.45262, saving model to next_words.h5\n",
            "2051/2051 [==============================] - 36s 18ms/step - loss: 0.4526\n",
            "Epoch 69/70\n",
            "2050/2051 [============================>.] - ETA: 0s - loss: 0.4521\n",
            "Epoch 69: loss improved from 0.45262 to 0.45214, saving model to next_words.h5\n",
            "2051/2051 [==============================] - 31s 15ms/step - loss: 0.4521\n",
            "Epoch 70/70\n",
            "2049/2051 [============================>.] - ETA: 0s - loss: 0.4485\n",
            "Epoch 70: loss improved from 0.45214 to 0.44850, saving model to next_words.h5\n",
            "2051/2051 [==============================] - 32s 16ms/step - loss: 0.4485\n"
          ]
        },
        {
          "output_type": "execute_result",
          "data": {
            "text/plain": [
              "<keras.callbacks.History at 0x7fdff079c430>"
            ]
          },
          "metadata": {},
          "execution_count": 18
        }
      ]
    },
    {
      "cell_type": "code",
      "source": [
        "from tensorflow.keras.models import load_model\n",
        "import numpy as np\n",
        "import pickle\n",
        "\n",
        "model = load_model('next_words.h5')\n",
        "tokenizer = pickle.load(open('token.pkl', 'rb'))\n",
        "\n",
        "def Predict_Next_Words(model, tokenizer, text):\n",
        "\n",
        "  sequence = tokenizer.texts_to_sequences([text])\n",
        "  sequence = np.array(sequence)\n",
        "  preds = np.argmax(model.predict(sequence))\n",
        "  predicted_word = \"\"\n",
        "\n",
        "  for key, value in tokenizer.word_index.items():\n",
        "      if value == preds:\n",
        "          predicted_word = key\n",
        "          break\n",
        "\n",
        "  print(predicted_word)\n",
        "  return predicted_word"
      ],
      "metadata": {
        "id": "OtNcPCMQffCT"
      },
      "execution_count": null,
      "outputs": []
    },
    {
      "cell_type": "code",
      "source": [
        "while(True):\n",
        "  text = input(\"Enter your line: \")\n",
        "\n",
        "  if text == \"0\":\n",
        "      print(\"Execution completed.....\")\n",
        "      break\n",
        "\n",
        "  else:\n",
        "      try:\n",
        "          text = text.split(\" \")\n",
        "          text = text[-3:]\n",
        "          print(text)\n",
        "\n",
        "          Predict_Next_Words(model, tokenizer, text)\n",
        "\n",
        "      except Exception as e:\n",
        "        print(\"Error occurred: \",e)\n",
        "        continue"
      ],
      "metadata": {
        "colab": {
          "base_uri": "https://localhost:8080/"
        },
        "id": "o998i9nrr8n8",
        "outputId": "f6c73116-a991-4990-ba9e-554c6ae240c2"
      },
      "execution_count": null,
      "outputs": [
        {
          "output_type": "stream",
          "name": "stdout",
          "text": [
            "Enter your line: The Project Gutenberg\n",
            "['The', 'Project', 'Gutenberg']\n",
            "1/1 [==============================] - 2s 2s/step\n",
            "literary\n",
            "Enter your line: The Project Gutenberg eBook of\n",
            "['Gutenberg', 'eBook', 'of']\n",
            "1/1 [==============================] - 0s 30ms/step\n",
            "pride\n",
            "Enter your line: how can you abuse your own\n",
            "['abuse', 'your', 'own']\n",
            "1/1 [==============================] - 0s 18ms/step\n",
            "children\n",
            "Enter your line: He could not help seeing that you were about five times as\n",
            "['five', 'times', 'as']\n",
            "1/1 [==============================] - 0s 22ms/step\n",
            "pretty\n",
            "Enter your line: however, it may all come to\n",
            "['all', 'come', 'to']\n",
            "1/1 [==============================] - 0s 19ms/step\n",
            "nothing\n",
            "Enter your line: 0\n",
            "Execution completed.....\n"
          ]
        }
      ]
    }
  ]
}